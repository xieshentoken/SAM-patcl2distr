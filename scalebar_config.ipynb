{
 "cells": [
  {
   "cell_type": "code",
   "execution_count": 1,
   "id": "ec1ffa10",
   "metadata": {},
   "outputs": [
    {
     "name": "stdout",
     "output_type": "stream",
     "text": [
      "pixel distance is  189.0026454841307\n",
      "save config file\n",
      "config points is full\n"
     ]
    },
    {
     "data": {
      "text/plain": [
       "189.0026454841307"
      ]
     },
     "execution_count": 1,
     "metadata": {},
     "output_type": "execute_result"
    },
    {
     "ename": "",
     "evalue": "",
     "output_type": "error",
     "traceback": [
      "\u001b[1;31m在当前单元格或上一个单元格中执行代码时 Kernel 崩溃。请查看单元格中的代码，以确定故障的可能原因。有关详细信息，请单击 <a href='https://aka.ms/vscodeJupyterKernelCrash'>此处</a>。有关更多详细信息，请查看 Jupyter <a href='command:jupyter.viewOutput'>log</a>。"
     ]
    }
   ],
   "source": [
    "import cv2\n",
    "import numpy as np\n",
    "# import tkinter as tk\n",
    "# from tkinter import filedialog\n",
    "\n",
    "# def select_file():\n",
    "#     file_path = filedialog.askopenfilename()\n",
    "#     return file_path\n",
    "# root = tk.Tk()\n",
    "# button = tk.Button(root, text=\"Select Image\", command=select_file)\n",
    "# button.pack()\n",
    "# img_file = select_file() \n",
    "\n",
    "# 读取包含标尺信息的图片，并通过单击选择标尺，获得像素与物理长度的关系\n",
    "def scalebar_config(img_file = r'image/test1.jpg',metric_cofig_file = r'config/scalebar_cofig.txt'):\n",
    "    config_points = []\n",
    "    def on_mouse_event(event, x, y, flags, params):\n",
    "        if event == cv2.EVENT_LBUTTONUP: # 左键点击\n",
    "            if len(config_points) < 2:\n",
    "                config_points.append((x,y))\n",
    "                cv2.circle(image, (x,y), 10, (0, 255, 0), -1)\n",
    "            else:\n",
    "                print('config points is full')\n",
    "    image = cv2.imread(img_file)\n",
    "    cv2.namedWindow('image')\n",
    "    cv2.setMouseCallback('image',on_mouse_event) # 设置鼠标事件\n",
    "\n",
    "    while(True):\n",
    "        # 显示配置点\n",
    "        if len(config_points) == 2:\n",
    "            cv2.line(image, config_points[0], config_points[1], (0, 0, 255), 5)\n",
    "\n",
    "        cv2.imshow('image',image)\n",
    "        # 退出ESC\n",
    "        if cv2.waitKey(20) & 0xFF == 27:\n",
    "            break\n",
    "        # enter键保存配置文件\n",
    "        elif cv2.waitKey(20) & 0xFF == 13:\n",
    "            cv2.putText( image , 'Saved config', (10, 30), cv2.FONT_HERSHEY_SIMPLEX, 1, (0, 255, 0), 2, cv2.LINE_AA)\n",
    "            with open(metric_cofig_file, 'w', encoding='utf8') as fw:\n",
    "                # 写入配置文件，每行一个点：x,y\n",
    "                for pt in config_points:\n",
    "                    write_line = str(pt[0]) + ',' + str(pt[1]) + '\\n'\n",
    "                    fw.write(write_line)\n",
    "                # 计算点之间的像素距离\n",
    "                distance = np.linalg.norm(np.array(config_points[0]) - np.array(config_points[1]))\n",
    "                print('pixel distance is ', distance)\n",
    "\n",
    "            print('save config file')\n",
    "\n",
    "    cv2.destroyAllWindows()\n",
    "    return distance\n",
    "\n",
    "# scalebar_config(img_file)\n",
    "scalebar_config(r'image/IL-G2.jpg')"
   ]
  },
  {
   "cell_type": "code",
   "execution_count": null,
   "id": "75fd4032",
   "metadata": {},
   "outputs": [],
   "source": []
  }
 ],
 "metadata": {
  "kernelspec": {
   "display_name": "Python 3 (ipykernel)",
   "language": "python",
   "name": "python3"
  },
  "language_info": {
   "codemirror_mode": {
    "name": "ipython",
    "version": 3
   },
   "file_extension": ".py",
   "mimetype": "text/x-python",
   "name": "python",
   "nbconvert_exporter": "python",
   "pygments_lexer": "ipython3",
   "version": "3.8.17"
  }
 },
 "nbformat": 4,
 "nbformat_minor": 5
}
